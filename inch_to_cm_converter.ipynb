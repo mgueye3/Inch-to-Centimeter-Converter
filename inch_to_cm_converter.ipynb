{
 "cells": [
  {
   "cell_type": "markdown",
   "id": "42500be0-c816-42a3-bd66-f4a25b35cb4e",
   "metadata": {},
   "source": [
    "**Description:**\n",
    "\n",
    "This script converts inches to centimeters using a specified range and step value.\n",
    "It provides a formatted output table for better readability.\n"
   ]
  },
  {
   "cell_type": "code",
   "execution_count": null,
   "id": "6bfce18d-8728-4eac-b5c2-daa264130a33",
   "metadata": {},
   "outputs": [],
   "source": [
    "def inch_to_cm(start: float, end: float, step: float):\n",
    "    \"\"\"Converts inches to centimeters and displays a formatted table.\"\"\"\n",
    "    print(\"Inch\\t|\\tCentimeters\")\n",
    "    print(\"----------------------\")\n",
    "    \n",
    "    while start <= end:\n",
    "        print(f\"{start:.2f}\\t|\\t{start * 2.54:.2f}\")\n",
    "        start += step\n",
    "\n",
    "if __name__ == \"__main__\":\n",
    "    try:\n",
    "        start = float(input(\"Enter the start inch: \"))\n",
    "        end = float(input(\"Enter the end inch: \"))\n",
    "        step = float(input(\"Enter the step: \"))\n",
    "        \n",
    "        if step <= 0:\n",
    "            print(\"Step value must be greater than zero.\")\n",
    "        else:\n",
    "            inch_to_cm(start, end, step)\n",
    "    except ValueError:\n",
    "        print(\"Invalid input. Please enter numeric values.\")\n"
   ]
  }
 ],
 "metadata": {
  "kernelspec": {
   "display_name": "Python 3 (ipykernel)",
   "language": "python",
   "name": "python3"
  },
  "language_info": {
   "codemirror_mode": {
    "name": "ipython",
    "version": 3
   },
   "file_extension": ".py",
   "mimetype": "text/x-python",
   "name": "python",
   "nbconvert_exporter": "python",
   "pygments_lexer": "ipython3",
   "version": "3.13.2"
  }
 },
 "nbformat": 4,
 "nbformat_minor": 5
}
